{
 "cells": [
  {
   "cell_type": "code",
   "execution_count": 43,
   "metadata": {},
   "outputs": [
    {
     "data": {
      "text/plain": [
       "<pywinauto.application.Application at 0x125bc28>"
      ]
     },
     "execution_count": 43,
     "metadata": {},
     "output_type": "execute_result"
    }
   ],
   "source": [
    "from pywinauto import application\n",
    "app = application.Application()\n",
    "app.start(\"Notepad.exe\")"
   ]
  },
  {
   "cell_type": "code",
   "execution_count": 44,
   "metadata": {},
   "outputs": [],
   "source": [
    "app.UntitledNotepad.draw_outline()"
   ]
  },
  {
   "cell_type": "code",
   "execution_count": 45,
   "metadata": {},
   "outputs": [],
   "source": [
    "app.UntitledNotepad.menu_select(\"편집 -> 바꾸기...\")"
   ]
  },
  {
   "cell_type": "code",
   "execution_count": 46,
   "metadata": {},
   "outputs": [
    {
     "name": "stdout",
     "output_type": "stream",
     "text": [
      "Control Identifiers:\n",
      "\n",
      "Dialog - '바꾸기'    (L389, T257, R808, B472)\n",
      "['Dialog', '바꾸기', '바꾸기Dialog']\n",
      "child_window(title=\"바꾸기\", class_name=\"#32770\")\n",
      "   | \n",
      "   | Static - '찾을 내용(&N):'    (L404, T305, R488, B320)\n",
      "   | ['Static', '찾을 내용(&N):Static', '찾을 내용(&N):', 'Static0', 'Static1']\n",
      "   | child_window(title=\"찾을 내용(&N):\", class_name=\"Static\")\n",
      "   | \n",
      "   | Edit - 'stenosis'    (L492, T301, R683, B324)\n",
      "   | ['Edit', '찾을 내용(&N):Edit', 'Edit0', 'Edit1']\n",
      "   | child_window(title=\"stenosis\", class_name=\"Edit\")\n",
      "   | \n",
      "   | Static - '바꿀 내용(&P):'    (L404, T337, R488, B352)\n",
      "   | ['Static2', '바꿀 내용(&P):', '바꿀 내용(&P):Static']\n",
      "   | child_window(title=\"바꿀 내용(&P):\", class_name=\"Static\")\n",
      "   | \n",
      "   | Edit - ''    (L492, T333, R683, B356)\n",
      "   | ['바꿀 내용(&P):Edit', 'Edit2']\n",
      "   | child_window(class_name=\"Edit\")\n",
      "   | \n",
      "   | CheckBox - '단어 단위로(&W)'    (L406, T374, R588, B397)\n",
      "   | ['단어 단위로(&W)CheckBox', '단어 단위로(&W)', 'CheckBox', 'CheckBox0', 'CheckBox1']\n",
      "   | child_window(title=\"단어 단위로(&W)\", class_name=\"Button\")\n",
      "   | \n",
      "   | CheckBox - '대/소문자 구분(&C)'    (L406, T404, R574, B427)\n",
      "   | ['대/소문자 구분(&C)', 'CheckBox2', '대/소문자 구분(&C)CheckBox']\n",
      "   | child_window(title=\"대/소문자 구분(&C)\", class_name=\"Button\")\n",
      "   | \n",
      "   | CheckBox - '주위에 배치(&O)'    (L404, T434, R516, B457)\n",
      "   | ['CheckBox3', '주위에 배치(&O)', '주위에 배치(&O)CheckBox']\n",
      "   | child_window(title=\"주위에 배치(&O)\", class_name=\"Button\")\n",
      "   | \n",
      "   | Button - '다음 찾기(&F)'    (L695, T296, R790, B322)\n",
      "   | ['Button', '다음 찾기(&F)', '다음 찾기(&F)Button', 'Button0', 'Button1']\n",
      "   | child_window(title=\"다음 찾기(&F)\", class_name=\"Button\")\n",
      "   | \n",
      "   | Button - '바꾸기(&R)'    (L695, T327, R790, B353)\n",
      "   | ['바꾸기(&R)', '바꾸기(&R)Button', 'Button2']\n",
      "   | child_window(title=\"바꾸기(&R)\", class_name=\"Button\")\n",
      "   | \n",
      "   | Button - '모두 바꾸기(&A)'    (L695, T359, R790, B385)\n",
      "   | ['Button3', '모두 바꾸기(&A)Button', '모두 바꾸기(&A)']\n",
      "   | child_window(title=\"모두 바꾸기(&A)\", class_name=\"Button\")\n",
      "   | \n",
      "   | Button - '취소'    (L695, T391, R790, B417)\n",
      "   | ['취소Button', '취소', 'Button4']\n",
      "   | child_window(title=\"취소\", class_name=\"Button\")\n",
      "   | \n",
      "   | Button - '도움말(&H)'    (L695, T429, R790, B455)\n",
      "   | ['도움말(&H)Button', 'Button5', '도움말(&H)']\n",
      "   | child_window(title=\"도움말(&H)\", class_name=\"Button\")\n",
      "   | \n",
      "   | Static - ''    (L404, T431, R406, B433)\n",
      "   | ['Static3', '바꾸기Static']\n",
      "   | child_window(class_name=\"Static\")\n"
     ]
    }
   ],
   "source": [
    "app.바꾸기.print_control_identifiers()"
   ]
  },
  {
   "cell_type": "code",
   "execution_count": 47,
   "metadata": {},
   "outputs": [],
   "source": [
    "app.바꾸기.취소.click()"
   ]
  },
  {
   "cell_type": "code",
   "execution_count": 48,
   "metadata": {},
   "outputs": [
    {
     "data": {
      "text/plain": [
       "<win32_controls.EditWrapper - 'hello ['In', 'Out', '_', '_1', '_2', '_35', '_40', '_43', '_7', '__', '___', '__builtin__', '__builtins__', '__doc__', '__loader__', '__name__', '__package__', '__spec__', '_dh', '_i', '_i1', '_i10', '_i11', '_i12', '_i13', '_i14', '_i15', '_i16', '_i17', '_i18', '_i19', '_i2', '_i20', '_i21', '_i22', '_i23', '_i24', '_i25', '_i26', '_i27', '_i28', '_i29', '_i3', '_i30', '_i31', '_i32', '_i33', '_i34', '_i35', '_i36', '_i37', '_i38', '_i39', '_i4', '_i40', '_i41', '_i42', '_i43', '_i44', '_i45', '_i46', '_i47', '_i48', '_i5', '_i6', '_i7', '_i8', '_i9', '_ih', '_ii', '_iii', '_oh', 'app', 'application', 'exit', 'get_ipython', 'quit']', Edit, 591482>"
      ]
     },
     "execution_count": 48,
     "metadata": {},
     "output_type": "execute_result"
    }
   ],
   "source": [
    "app.UntitiledNotepad.Edit.type_keys(\"hello %s\" % str(dir()), with_spaces=True)"
   ]
  },
  {
   "cell_type": "code",
   "execution_count": 51,
   "metadata": {},
   "outputs": [],
   "source": [
    "app.UntitledNotepad.menu_select(\"파일 -> 끝내기\")"
   ]
  },
  {
   "cell_type": "code",
   "execution_count": 52,
   "metadata": {},
   "outputs": [],
   "source": [
    "app.메모장.Button2.click()"
   ]
  }
 ],
 "metadata": {
  "kernelspec": {
   "display_name": "Python 3",
   "language": "python",
   "name": "python3"
  },
  "language_info": {
   "codemirror_mode": {
    "name": "ipython",
    "version": 3
   },
   "file_extension": ".py",
   "mimetype": "text/x-python",
   "name": "python",
   "nbconvert_exporter": "python",
   "pygments_lexer": "ipython3",
   "version": "3.8.5"
  }
 },
 "nbformat": 4,
 "nbformat_minor": 4
}
