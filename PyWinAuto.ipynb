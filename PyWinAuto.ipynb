{
 "cells": [
  {
   "cell_type": "code",
   "execution_count": 2,
   "metadata": {},
   "outputs": [
    {
     "data": {
      "text/plain": [
       "<pywinauto.application.Application at 0x5547508>"
      ]
     },
     "execution_count": 2,
     "metadata": {},
     "output_type": "execute_result"
    }
   ],
   "source": [
    "from pywinauto import application\n",
    "app = application.Application()\n",
    "app.start(\"Notepad.exe\")"
   ]
  },
  {
   "cell_type": "code",
   "execution_count": 3,
   "metadata": {},
   "outputs": [],
   "source": [
    "app.UntitledNotepad.draw_outline()"
   ]
  },
  {
   "cell_type": "code",
   "execution_count": 4,
   "metadata": {},
   "outputs": [],
   "source": [
    "app.UntitledNotepad.menu_select(\"편집 -> 바꾸기...\")"
   ]
  },
  {
   "cell_type": "code",
   "execution_count": 5,
   "metadata": {},
   "outputs": [
    {
     "name": "stdout",
     "output_type": "stream",
     "text": [
      "Control Identifiers:\n",
      "\n",
      "Dialog - '바꾸기'    (L690, T321, R1109, B536)\n",
      "['바꾸기', 'Dialog', '바꾸기Dialog']\n",
      "child_window(title=\"바꾸기\", class_name=\"#32770\")\n",
      "   | \n",
      "   | Static - '찾을 내용(&N):'    (L705, T369, R789, B384)\n",
      "   | ['찾을 내용(&N):Static', '찾을 내용(&N):', 'Static', 'Static0', 'Static1']\n",
      "   | child_window(title=\"찾을 내용(&N):\", class_name=\"Static\")\n",
      "   | \n",
      "   | Edit - 'jupyter_project'    (L793, T365, R984, B388)\n",
      "   | ['찾을 내용(&N):Edit', 'Edit', 'Edit0', 'Edit1']\n",
      "   | child_window(title=\"jupyter_project\", class_name=\"Edit\")\n",
      "   | \n",
      "   | Static - '바꿀 내용(&P):'    (L705, T401, R789, B416)\n",
      "   | ['바꿀 내용(&P):Static', '바꿀 내용(&P):', 'Static2']\n",
      "   | child_window(title=\"바꿀 내용(&P):\", class_name=\"Static\")\n",
      "   | \n",
      "   | Edit - ''    (L793, T397, R984, B420)\n",
      "   | ['바꿀 내용(&P):Edit', 'Edit2']\n",
      "   | child_window(class_name=\"Edit\")\n",
      "   | \n",
      "   | CheckBox - '단어 단위로(&W)'    (L707, T438, R889, B461)\n",
      "   | ['단어 단위로(&W)', '단어 단위로(&W)CheckBox', 'CheckBox', 'CheckBox0', 'CheckBox1']\n",
      "   | child_window(title=\"단어 단위로(&W)\", class_name=\"Button\")\n",
      "   | \n",
      "   | CheckBox - '대/소문자 구분(&C)'    (L707, T468, R875, B491)\n",
      "   | ['대/소문자 구분(&C)', 'CheckBox2', '대/소문자 구분(&C)CheckBox']\n",
      "   | child_window(title=\"대/소문자 구분(&C)\", class_name=\"Button\")\n",
      "   | \n",
      "   | CheckBox - '주위에 배치(&O)'    (L705, T498, R817, B521)\n",
      "   | ['주위에 배치(&O)', '주위에 배치(&O)CheckBox', 'CheckBox3']\n",
      "   | child_window(title=\"주위에 배치(&O)\", class_name=\"Button\")\n",
      "   | \n",
      "   | Button - '다음 찾기(&F)'    (L996, T360, R1091, B386)\n",
      "   | ['Button', '다음 찾기(&F)', '다음 찾기(&F)Button', 'Button0', 'Button1']\n",
      "   | child_window(title=\"다음 찾기(&F)\", class_name=\"Button\")\n",
      "   | \n",
      "   | Button - '바꾸기(&R)'    (L996, T391, R1091, B417)\n",
      "   | ['바꾸기(&R)', 'Button2', '바꾸기(&R)Button']\n",
      "   | child_window(title=\"바꾸기(&R)\", class_name=\"Button\")\n",
      "   | \n",
      "   | Button - '모두 바꾸기(&A)'    (L996, T423, R1091, B449)\n",
      "   | ['Button3', '모두 바꾸기(&A)', '모두 바꾸기(&A)Button']\n",
      "   | child_window(title=\"모두 바꾸기(&A)\", class_name=\"Button\")\n",
      "   | \n",
      "   | Button - '취소'    (L996, T455, R1091, B481)\n",
      "   | ['Button4', '취소', '취소Button']\n",
      "   | child_window(title=\"취소\", class_name=\"Button\")\n",
      "   | \n",
      "   | Button - '도움말(&H)'    (L996, T493, R1091, B519)\n",
      "   | ['도움말(&H)', 'Button5', '도움말(&H)Button']\n",
      "   | child_window(title=\"도움말(&H)\", class_name=\"Button\")\n",
      "   | \n",
      "   | Static - ''    (L705, T495, R707, B497)\n",
      "   | ['바꾸기Static', 'Static3']\n",
      "   | child_window(class_name=\"Static\")\n"
     ]
    }
   ],
   "source": [
    "app.바꾸기.print_control_identifiers()"
   ]
  },
  {
   "cell_type": "code",
   "execution_count": 6,
   "metadata": {},
   "outputs": [],
   "source": [
    "app.바꾸기.취소.click()"
   ]
  },
  {
   "cell_type": "code",
   "execution_count": 7,
   "metadata": {},
   "outputs": [
    {
     "data": {
      "text/plain": [
       "<win32_controls.EditWrapper - 'hello ['In', 'Out', '_', '_2', '__', '___', '__builtin__', '__builtins__', '__doc__', '__loader__', '__name__', '__package__', '__spec__', '_dh', '_i', '_i1', '_i2', '_i3', '_i4', '_i5', '_i6', '_i7', '_ih', '_ii', '_iii', '_oh', 'app', 'application', 'exit', 'get_ipython', 'quit']', Edit, 396960>"
      ]
     },
     "execution_count": 7,
     "metadata": {},
     "output_type": "execute_result"
    }
   ],
   "source": [
    "app.UntitiledNotepad.Edit.type_keys(\"hello %s\" % str(dir()), with_spaces=True)"
   ]
  },
  {
   "cell_type": "code",
   "execution_count": 8,
   "metadata": {},
   "outputs": [],
   "source": [
    "app.UntitledNotepad.menu_select(\"파일 -> 끝내기\")"
   ]
  },
  {
   "cell_type": "code",
   "execution_count": 9,
   "metadata": {},
   "outputs": [],
   "source": [
    "app.메모장.Button2.click()"
   ]
  }
 ],
 "metadata": {
  "kernelspec": {
   "display_name": "Python 3",
   "language": "python",
   "name": "python3"
  },
  "language_info": {
   "codemirror_mode": {
    "name": "ipython",
    "version": 3
   },
   "file_extension": ".py",
   "mimetype": "text/x-python",
   "name": "python",
   "nbconvert_exporter": "python",
   "pygments_lexer": "ipython3",
   "version": "3.8.5"
  }
 },
 "nbformat": 4,
 "nbformat_minor": 4
}
