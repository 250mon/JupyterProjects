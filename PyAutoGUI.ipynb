{
 "cells": [
  {
   "cell_type": "code",
   "execution_count": 12,
   "metadata": {},
   "outputs": [
    {
     "data": {
      "text/plain": [
       "Point(x=998, y=266)"
      ]
     },
     "execution_count": 12,
     "metadata": {},
     "output_type": "execute_result"
    }
   ],
   "source": [
    "import pyautogui\n",
    "pyautogui.position()"
   ]
  },
  {
   "cell_type": "code",
   "execution_count": 20,
   "metadata": {},
   "outputs": [
    {
     "name": "stdout",
     "output_type": "stream",
     "text": [
      "X:  911 Y:  197 RGB: ( 51,  51,  51)\n",
      "Done.\n"
     ]
    }
   ],
   "source": [
    "import pyautogui\n",
    "\n",
    "try:\n",
    "    while True:\n",
    "        # TODO: Get and print the mouse coordinates.\n",
    "        x, y = pyautogui.position()\n",
    "        # rjust() string method will right-justify them so that they take up the same amount of space\n",
    "        pixelColor = pyautogui.screenshot().getpixel((x, y))\n",
    "        positionStr = 'X: ' + str(x).rjust(4) + ' Y: ' + str(y).rjust(4)\n",
    "        positionStr += ' RGB: (' + str(pixelColor[0]).rjust(3)\n",
    "        positionStr += ', ' + str(pixelColor[1]).rjust(3)\n",
    "        positionStr += ', ' + str(pixelColor[2]).rjust(3) + ')'\n",
    "        print(positionStr, end='\\r')\n",
    "except KeyboardInterrupt:\n",
    "    print('\\nDone.')"
   ]
  },
  {
   "cell_type": "code",
   "execution_count": 1,
   "metadata": {},
   "outputs": [
    {
     "name": "stdout",
     "output_type": "stream",
     "text": [
      "\n",
      "Terminated.\n"
     ]
    }
   ],
   "source": [
    "from time import sleep\n",
    "import pyautogui as pg\n",
    "import functools\n",
    "\n",
    "\n",
    "def trace(func):\n",
    "    @functools.wraps(func)\n",
    "    def wrapper(*args, **kwargs):\n",
    "        original_result = func(*args, **kwargs)\n",
    "        with open('log.txt', 'a') as f:\n",
    "            f.write(f'TRACE: calling {func.__name__}() '\n",
    "                    f'with {args}, {kwargs}\\n')\n",
    "            f.write(f'TRACE: {func.__name__}() '\n",
    "                    f'returned {original_result!r}\\n\\n')\n",
    "        return original_result\n",
    "\n",
    "    return wrapper\n",
    "\n",
    "\n",
    "class FluVaccineEdu:\n",
    "    def __init__(self):\n",
    "        pg.PAUSE = 1\n",
    "        pg.FAILSAFE = True\n",
    "\n",
    "        self.img_dir = 'C:\\\\Users\\\\inbon\\\\Pictures\\\\'\n",
    "        self.screen_region = (0, 0, 1060, 800)\n",
    "\n",
    "    def imgFileName(self, name):\n",
    "        return self.img_dir + name + '.png'\n",
    "\n",
    "    def clickAt(self, pos):\n",
    "        org_pos = pg.position()\n",
    "        pg.click(pos)\n",
    "        pg.moveTo(org_pos, duration=0.1)\n",
    "\n",
    "    def isImgFound(self, names):\n",
    "        for name in names:\n",
    "            pos = pg.locateCenterOnScreen(self.imgFileName(name), region=self.screen_region)\n",
    "            if pos != None:\n",
    "                break\n",
    "        return pos\n",
    "\n",
    "    def isImgFoundAll(self, names):\n",
    "        for name in names:\n",
    "            pos = list(pg.locateAllOnScreen(self.imgFileName(name), region=self.screen_region))\n",
    "            if len(pos) != 0:\n",
    "                break\n",
    "        return pos\n",
    "\n",
    "    def run(self):\n",
    "        newScreen = True\n",
    "        try:\n",
    "            while (True):\n",
    "                posNext = self.isImgFound(['next', 'next2', 'next3'])\n",
    "                posEnd1 = self.isImgFound(['end1', 'end11'])\n",
    "                posEnd2 = self.isImgFound(['end2', 'end21'])\n",
    "                posAbNext = self.isImgFound(['ab_next'])\n",
    "                posAbClicks = self.isImgFoundAll(['ab_click', 'ab_click2'])\n",
    "                posMis = self.isImgFoundAll(['mi'])\n",
    "                # when only one \"mi\" button is left, it means that the session is over\n",
    "                if len(posMis) <= 1:\n",
    "                    pass\n",
    "                    #print('Finished')\n",
    "\n",
    "                # when \"next\" button is activated, press it\n",
    "                if posNext != None:\n",
    "                    self.clickAt(posNext)\n",
    "                    newScreen = True\n",
    "                # when \"green next\" button is activated, press it\n",
    "                elif posAbNext != None:\n",
    "                    self.clickAt(posAbNext)\n",
    "                # when the chapter gets to the end, press the second \"mi\" button\n",
    "                elif posEnd1 != None and posEnd2 != None:\n",
    "                    pass\n",
    "                    #self.clickAt(posMis[1])\n",
    "                # when a series of \"click\" buttons are activated, press them one by one\n",
    "                elif newScreen and len(posAbClicks) != 0:\n",
    "                    for abClick in posAbClicks:\n",
    "                        self.clickAt(abClick)\n",
    "                        sleep(2)\n",
    "                    newScreen = False\n",
    "                else:\n",
    "                    pass\n",
    "                sleep(3)\n",
    "        except KeyboardInterrupt:\n",
    "            print('\\nTerminated.')\n",
    "\n",
    "# Press the green button in the gutter to run the script.\n",
    "if __name__ == '__main__':\n",
    "    flu = FluVaccineEdu()\n",
    "    flu.run()\n",
    "\n"
   ]
  },
  {
   "cell_type": "code",
   "execution_count": 5,
   "metadata": {},
   "outputs": [
    {
     "data": {
      "text/plain": [
       "Point(x=1024, y=748)"
      ]
     },
     "execution_count": 5,
     "metadata": {},
     "output_type": "execute_result"
    }
   ],
   "source": [
    "pg.position()"
   ]
  },
  {
   "cell_type": "code",
   "execution_count": 78,
   "metadata": {},
   "outputs": [],
   "source": [
    "pg.moveTo(pt, duration = 0.1)"
   ]
  },
  {
   "cell_type": "code",
   "execution_count": 15,
   "metadata": {},
   "outputs": [
    {
     "data": {
      "text/plain": [
       "Box(left=1612, top=353, width=23, height=12)"
      ]
     },
     "execution_count": 15,
     "metadata": {},
     "output_type": "execute_result"
    }
   ],
   "source": [
    "abs = pg.locateOnScreen(\"C:\\\\Users\\\\inbon\\\\Pictures\\\\ab_click2.png\")\n",
    "abs"
   ]
  },
  {
   "cell_type": "code",
   "execution_count": 96,
   "metadata": {},
   "outputs": [
    {
     "data": {
      "text/plain": [
       "(204, 51, 0)"
      ]
     },
     "execution_count": 96,
     "metadata": {},
     "output_type": "execute_result"
    }
   ],
   "source": [
    "im = pyautogui.screenshot()\n",
    "im.getpixel((804, 330))"
   ]
  }
 ],
 "metadata": {
  "kernelspec": {
   "display_name": "Python 3",
   "language": "python",
   "name": "python3"
  },
  "language_info": {
   "codemirror_mode": {
    "name": "ipython",
    "version": 3
   },
   "file_extension": ".py",
   "mimetype": "text/x-python",
   "name": "python",
   "nbconvert_exporter": "python",
   "pygments_lexer": "ipython3",
   "version": "3.8.5"
  }
 },
 "nbformat": 4,
 "nbformat_minor": 4
}
