{
 "cells": [
  {
   "cell_type": "code",
   "execution_count": 7,
   "metadata": {},
   "outputs": [],
   "source": [
    "import pandas_datareader.data as pdr\n",
    "import datetime\n",
    "start = datetime.datetime(2016, 2, 19)\n",
    "end = datetime.datetime(2016, 3, 4)"
   ]
  },
  {
   "cell_type": "code",
   "execution_count": 8,
   "metadata": {},
   "outputs": [],
   "source": [
    "gs = pdr.DataReader(\"078930.KS\", \"yahoo\", start, end)"
   ]
  },
  {
   "cell_type": "code",
   "execution_count": 9,
   "metadata": {},
   "outputs": [
    {
     "data": {
      "text/html": [
       "<div>\n",
       "<style scoped>\n",
       "    .dataframe tbody tr th:only-of-type {\n",
       "        vertical-align: middle;\n",
       "    }\n",
       "\n",
       "    .dataframe tbody tr th {\n",
       "        vertical-align: top;\n",
       "    }\n",
       "\n",
       "    .dataframe thead th {\n",
       "        text-align: right;\n",
       "    }\n",
       "</style>\n",
       "<table border=\"1\" class=\"dataframe\">\n",
       "  <thead>\n",
       "    <tr style=\"text-align: right;\">\n",
       "      <th></th>\n",
       "      <th>High</th>\n",
       "      <th>Low</th>\n",
       "      <th>Open</th>\n",
       "      <th>Close</th>\n",
       "      <th>Volume</th>\n",
       "      <th>Adj Close</th>\n",
       "    </tr>\n",
       "    <tr>\n",
       "      <th>Date</th>\n",
       "      <th></th>\n",
       "      <th></th>\n",
       "      <th></th>\n",
       "      <th></th>\n",
       "      <th></th>\n",
       "      <th></th>\n",
       "    </tr>\n",
       "  </thead>\n",
       "  <tbody>\n",
       "    <tr>\n",
       "      <th>2016-02-19</th>\n",
       "      <td>51100</td>\n",
       "      <td>49950</td>\n",
       "      <td>50300</td>\n",
       "      <td>50600</td>\n",
       "      <td>301800</td>\n",
       "      <td>45921.683594</td>\n",
       "    </tr>\n",
       "    <tr>\n",
       "      <th>2016-02-22</th>\n",
       "      <td>50800</td>\n",
       "      <td>49850</td>\n",
       "      <td>50300</td>\n",
       "      <td>50400</td>\n",
       "      <td>153961</td>\n",
       "      <td>45740.175781</td>\n",
       "    </tr>\n",
       "    <tr>\n",
       "      <th>2016-02-23</th>\n",
       "      <td>53000</td>\n",
       "      <td>50800</td>\n",
       "      <td>50800</td>\n",
       "      <td>52800</td>\n",
       "      <td>431934</td>\n",
       "      <td>47918.273438</td>\n",
       "    </tr>\n",
       "    <tr>\n",
       "      <th>2016-02-24</th>\n",
       "      <td>53500</td>\n",
       "      <td>51900</td>\n",
       "      <td>52000</td>\n",
       "      <td>53500</td>\n",
       "      <td>259616</td>\n",
       "      <td>48553.554688</td>\n",
       "    </tr>\n",
       "    <tr>\n",
       "      <th>2016-02-25</th>\n",
       "      <td>54700</td>\n",
       "      <td>52700</td>\n",
       "      <td>53900</td>\n",
       "      <td>53900</td>\n",
       "      <td>170839</td>\n",
       "      <td>48916.574219</td>\n",
       "    </tr>\n",
       "    <tr>\n",
       "      <th>2016-02-26</th>\n",
       "      <td>54500</td>\n",
       "      <td>53200</td>\n",
       "      <td>54300</td>\n",
       "      <td>53300</td>\n",
       "      <td>159453</td>\n",
       "      <td>48372.046875</td>\n",
       "    </tr>\n",
       "    <tr>\n",
       "      <th>2016-02-29</th>\n",
       "      <td>53900</td>\n",
       "      <td>52800</td>\n",
       "      <td>53000</td>\n",
       "      <td>53000</td>\n",
       "      <td>154692</td>\n",
       "      <td>48099.785156</td>\n",
       "    </tr>\n",
       "    <tr>\n",
       "      <th>2016-03-02</th>\n",
       "      <td>55200</td>\n",
       "      <td>53500</td>\n",
       "      <td>53900</td>\n",
       "      <td>55100</td>\n",
       "      <td>229999</td>\n",
       "      <td>50005.625000</td>\n",
       "    </tr>\n",
       "    <tr>\n",
       "      <th>2016-03-03</th>\n",
       "      <td>55800</td>\n",
       "      <td>54300</td>\n",
       "      <td>55300</td>\n",
       "      <td>55000</td>\n",
       "      <td>217063</td>\n",
       "      <td>49914.867188</td>\n",
       "    </tr>\n",
       "    <tr>\n",
       "      <th>2016-03-04</th>\n",
       "      <td>54800</td>\n",
       "      <td>53200</td>\n",
       "      <td>54700</td>\n",
       "      <td>54200</td>\n",
       "      <td>237934</td>\n",
       "      <td>49188.835938</td>\n",
       "    </tr>\n",
       "  </tbody>\n",
       "</table>\n",
       "</div>"
      ],
      "text/plain": [
       "             High    Low   Open  Close  Volume     Adj Close\n",
       "Date                                                        \n",
       "2016-02-19  51100  49950  50300  50600  301800  45921.683594\n",
       "2016-02-22  50800  49850  50300  50400  153961  45740.175781\n",
       "2016-02-23  53000  50800  50800  52800  431934  47918.273438\n",
       "2016-02-24  53500  51900  52000  53500  259616  48553.554688\n",
       "2016-02-25  54700  52700  53900  53900  170839  48916.574219\n",
       "2016-02-26  54500  53200  54300  53300  159453  48372.046875\n",
       "2016-02-29  53900  52800  53000  53000  154692  48099.785156\n",
       "2016-03-02  55200  53500  53900  55100  229999  50005.625000\n",
       "2016-03-03  55800  54300  55300  55000  217063  49914.867188\n",
       "2016-03-04  54800  53200  54700  54200  237934  49188.835938"
      ]
     },
     "execution_count": 9,
     "metadata": {},
     "output_type": "execute_result"
    }
   ],
   "source": [
    "gs"
   ]
  },
  {
   "cell_type": "code",
   "execution_count": 13,
   "metadata": {},
   "outputs": [
    {
     "name": "stdout",
     "output_type": "stream",
     "text": [
      "<class 'pandas.core.frame.DataFrame'>\n",
      "DatetimeIndex: 1220 entries, 2015-08-31 to 2020-08-27\n",
      "Data columns (total 6 columns):\n",
      " #   Column     Non-Null Count  Dtype  \n",
      "---  ------     --------------  -----  \n",
      " 0   High       1220 non-null   float64\n",
      " 1   Low        1220 non-null   float64\n",
      " 2   Open       1220 non-null   float64\n",
      " 3   Close      1220 non-null   float64\n",
      " 4   Volume     1220 non-null   float64\n",
      " 5   Adj Close  1220 non-null   float64\n",
      "dtypes: float64(6)\n",
      "memory usage: 66.7 KB\n"
     ]
    }
   ],
   "source": [
    "gs_more = pdr.DataReader(\"078930.KS\", \"yahoo\")\n",
    "gs_more.info()"
   ]
  },
  {
   "cell_type": "code",
   "execution_count": 15,
   "metadata": {},
   "outputs": [
    {
     "data": {
      "image/png": "[encoded data removed]",
      "text/plain": [
       "<Figure size 432x288 with 1 Axes>"
      ]
     },
     "metadata": {
      "needs_background": "light"
     },
     "output_type": "display_data"
    }
   ],
   "source": [
    "import matplotlib.pyplot as plt\n",
    "\n",
    "plt.plot(gs_more['Adj Close'])\n",
    "plt.show()"
   ]
  },
  {
   "cell_type": "code",
   "execution_count": 16,
   "metadata": {},
   "outputs": [
    {
     "data": {
      "text/plain": [
       "<AxesSubplot:xlabel='Date'>"
      ]
     },
     "execution_count": 16,
     "metadata": {},
     "output_type": "execute_result"
    },
    {
     "data": {
      "image/png": "[encoded data removed]",
      "text/plain": [
       "<Figure size 432x288 with 1 Axes>"
      ]
     },
     "metadata": {
      "needs_background": "light"
     },
     "output_type": "display_data"
    }
   ],
   "source": [
    "gs_more['Adj Close'].plot()"
   ]
  },
  {
   "cell_type": "markdown",
   "metadata": {},
   "source": [
    "## 주가이동평균선"
   ]
  },
  {
   "cell_type": "code",
   "execution_count": 12,
   "metadata": {},
   "outputs": [
    {
     "data": {
      "text/html": [
       "<div>\n",
       "<style scoped>\n",
       "    .dataframe tbody tr th:only-of-type {\n",
       "        vertical-align: middle;\n",
       "    }\n",
       "\n",
       "    .dataframe tbody tr th {\n",
       "        vertical-align: top;\n",
       "    }\n",
       "\n",
       "    .dataframe thead th {\n",
       "        text-align: right;\n",
       "    }\n",
       "</style>\n",
       "<table border=\"1\" class=\"dataframe\">\n",
       "  <thead>\n",
       "    <tr style=\"text-align: right;\">\n",
       "      <th></th>\n",
       "      <th>High</th>\n",
       "      <th>Low</th>\n",
       "      <th>Open</th>\n",
       "      <th>Close</th>\n",
       "      <th>Volume</th>\n",
       "      <th>Adj Close</th>\n",
       "    </tr>\n",
       "    <tr>\n",
       "      <th>Date</th>\n",
       "      <th></th>\n",
       "      <th></th>\n",
       "      <th></th>\n",
       "      <th></th>\n",
       "      <th></th>\n",
       "      <th></th>\n",
       "    </tr>\n",
       "  </thead>\n",
       "  <tbody>\n",
       "    <tr>\n",
       "      <th>2016-02-26</th>\n",
       "      <td>54500.0</td>\n",
       "      <td>53200.0</td>\n",
       "      <td>54300.0</td>\n",
       "      <td>53300.0</td>\n",
       "      <td>159453.0</td>\n",
       "      <td>48372.046875</td>\n",
       "    </tr>\n",
       "    <tr>\n",
       "      <th>2016-02-29</th>\n",
       "      <td>53900.0</td>\n",
       "      <td>52800.0</td>\n",
       "      <td>53000.0</td>\n",
       "      <td>53000.0</td>\n",
       "      <td>154692.0</td>\n",
       "      <td>48099.785156</td>\n",
       "    </tr>\n",
       "    <tr>\n",
       "      <th>2016-03-02</th>\n",
       "      <td>55200.0</td>\n",
       "      <td>53500.0</td>\n",
       "      <td>53900.0</td>\n",
       "      <td>55100.0</td>\n",
       "      <td>229999.0</td>\n",
       "      <td>50005.625000</td>\n",
       "    </tr>\n",
       "    <tr>\n",
       "      <th>2016-03-03</th>\n",
       "      <td>55800.0</td>\n",
       "      <td>54300.0</td>\n",
       "      <td>55300.0</td>\n",
       "      <td>55000.0</td>\n",
       "      <td>217063.0</td>\n",
       "      <td>49914.867188</td>\n",
       "    </tr>\n",
       "    <tr>\n",
       "      <th>2016-03-04</th>\n",
       "      <td>54800.0</td>\n",
       "      <td>53200.0</td>\n",
       "      <td>54700.0</td>\n",
       "      <td>54200.0</td>\n",
       "      <td>237934.0</td>\n",
       "      <td>49188.835938</td>\n",
       "    </tr>\n",
       "  </tbody>\n",
       "</table>\n",
       "</div>"
      ],
      "text/plain": [
       "               High      Low     Open    Close    Volume     Adj Close\n",
       "Date                                                                  \n",
       "2016-02-26  54500.0  53200.0  54300.0  53300.0  159453.0  48372.046875\n",
       "2016-02-29  53900.0  52800.0  53000.0  53000.0  154692.0  48099.785156\n",
       "2016-03-02  55200.0  53500.0  53900.0  55100.0  229999.0  50005.625000\n",
       "2016-03-03  55800.0  54300.0  55300.0  55000.0  217063.0  49914.867188\n",
       "2016-03-04  54800.0  53200.0  54700.0  54200.0  237934.0  49188.835938"
      ]
     },
     "execution_count": 12,
     "metadata": {},
     "output_type": "execute_result"
    }
   ],
   "source": [
    "import pandas as pd\n",
    "import pandas_datareader.data as pdr\n",
    "\n",
    "gs = pdr.DataReader(\"078930.KS\", \"yahoo\", \"2014-01-01\", \"2016-03-06\")\n",
    "gs.tail()"
   ]
  }
 ],
 "metadata": {
  "kernelspec": {
   "display_name": "Python 3",
   "language": "python",
   "name": "python3"
  },
  "language_info": {
   "codemirror_mode": {
    "name": "ipython",
    "version": 3
   },
   "file_extension": ".py",
   "mimetype": "text/x-python",
   "name": "python",
   "nbconvert_exporter": "python",
   "pygments_lexer": "ipython3",
   "version": "3.8.5"
  }
 },
 "nbformat": 4,
 "nbformat_minor": 4
}
