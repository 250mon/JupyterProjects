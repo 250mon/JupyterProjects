{
 "cells": [
  {
   "cell_type": "markdown",
   "metadata": {},
   "source": [
    "Random"
   ]
  },
  {
   "cell_type": "code",
   "execution_count": 1,
   "metadata": {},
   "outputs": [],
   "source": [
    "from numpy.random import default_rng\n",
    "rng = default_rng()\n",
    "vals = rng.standard_normal(10)\n",
    "mor_vals = rng.standard_normal(10)"
   ]
  },
  {
   "cell_type": "code",
   "execution_count": 8,
   "metadata": {},
   "outputs": [
    {
     "name": "stdout",
     "output_type": "stream",
     "text": [
      "array([-0.31034904, -0.01762733, -0.14783917,  0.20751258, -0.96450782,\n",
      "       -0.34846201,  1.77497543,  0.27972328, -0.42621552,  0.74993098])\n",
      "array([ 0.09152835, -0.39780416,  2.34292135,  0.77745672, -1.46323029,\n",
      "       -0.14857399,  1.53557383,  0.30875831, -1.55180389, -1.48200827])\n"
     ]
    }
   ],
   "source": [
    "print(repr(vals) + '\\n' + repr(mor_vals))"
   ]
  },
  {
   "cell_type": "code",
   "execution_count": 12,
   "metadata": {},
   "outputs": [
    {
     "name": "stdout",
     "output_type": "stream",
     "text": [
      "            a         b         c         d         e\n",
      "0    0.790473  0.601814 -0.208289 -0.996770 -0.535662\n",
      "1   -0.415016  0.219546 -0.600794 -0.004743  0.037975\n",
      "2    0.350332 -0.064094  1.165006 -0.516458 -0.525516\n",
      "3    0.367867 -1.715007 -0.899683  0.579857 -0.070973\n",
      "4   -0.140796 -0.969789  0.203318  0.493086  1.217511\n",
      "..        ...       ...       ...       ...       ...\n",
      "995 -0.886821  0.686526 -1.664053  1.090774 -0.346796\n",
      "996  1.089639  0.487155  0.350233  1.898949 -0.703143\n",
      "997 -0.317189  1.219322 -1.105447 -1.665037 -1.897025\n",
      "998  2.010151  0.698088  1.544246  1.067293 -1.165457\n",
      "999  0.364957  1.282201  0.551837  0.061544 -1.431466\n",
      "\n",
      "[1000 rows x 5 columns]\n"
     ]
    }
   ],
   "source": [
    "import numpy as np\n",
    "import pandas as pd\n",
    "frame = pd.DataFrame(np.random.randn(1000, 5),\n",
    "                     columns=['a', 'b', 'c', 'd', 'e'])\n",
    "print(frame)"
   ]
  },
  {
   "cell_type": "code",
   "execution_count": 13,
   "metadata": {},
   "outputs": [
    {
     "data": {
      "text/html": [
       "<div>\n",
       "<style scoped>\n",
       "    .dataframe tbody tr th:only-of-type {\n",
       "        vertical-align: middle;\n",
       "    }\n",
       "\n",
       "    .dataframe tbody tr th {\n",
       "        vertical-align: top;\n",
       "    }\n",
       "\n",
       "    .dataframe thead th {\n",
       "        text-align: right;\n",
       "    }\n",
       "</style>\n",
       "<table border=\"1\" class=\"dataframe\">\n",
       "  <thead>\n",
       "    <tr style=\"text-align: right;\">\n",
       "      <th></th>\n",
       "      <th>a</th>\n",
       "      <th>b</th>\n",
       "      <th>c</th>\n",
       "      <th>d</th>\n",
       "      <th>e</th>\n",
       "    </tr>\n",
       "  </thead>\n",
       "  <tbody>\n",
       "    <tr>\n",
       "      <th>a</th>\n",
       "      <td>1.057425</td>\n",
       "      <td>0.043451</td>\n",
       "      <td>-0.054462</td>\n",
       "      <td>0.019868</td>\n",
       "      <td>0.068246</td>\n",
       "    </tr>\n",
       "    <tr>\n",
       "      <th>b</th>\n",
       "      <td>0.043451</td>\n",
       "      <td>1.021950</td>\n",
       "      <td>-0.015110</td>\n",
       "      <td>-0.028407</td>\n",
       "      <td>-0.054950</td>\n",
       "    </tr>\n",
       "    <tr>\n",
       "      <th>c</th>\n",
       "      <td>-0.054462</td>\n",
       "      <td>-0.015110</td>\n",
       "      <td>0.995842</td>\n",
       "      <td>-0.036487</td>\n",
       "      <td>-0.047129</td>\n",
       "    </tr>\n",
       "    <tr>\n",
       "      <th>d</th>\n",
       "      <td>0.019868</td>\n",
       "      <td>-0.028407</td>\n",
       "      <td>-0.036487</td>\n",
       "      <td>1.009299</td>\n",
       "      <td>0.020987</td>\n",
       "    </tr>\n",
       "    <tr>\n",
       "      <th>e</th>\n",
       "      <td>0.068246</td>\n",
       "      <td>-0.054950</td>\n",
       "      <td>-0.047129</td>\n",
       "      <td>0.020987</td>\n",
       "      <td>0.958799</td>\n",
       "    </tr>\n",
       "  </tbody>\n",
       "</table>\n",
       "</div>"
      ],
      "text/plain": [
       "          a         b         c         d         e\n",
       "a  1.057425  0.043451 -0.054462  0.019868  0.068246\n",
       "b  0.043451  1.021950 -0.015110 -0.028407 -0.054950\n",
       "c -0.054462 -0.015110  0.995842 -0.036487 -0.047129\n",
       "d  0.019868 -0.028407 -0.036487  1.009299  0.020987\n",
       "e  0.068246 -0.054950 -0.047129  0.020987  0.958799"
      ]
     },
     "execution_count": 13,
     "metadata": {},
     "output_type": "execute_result"
    }
   ],
   "source": [
    "frame.cov()"
   ]
  },
  {
   "cell_type": "code",
   "execution_count": 15,
   "metadata": {},
   "outputs": [
    {
     "data": {
      "text/plain": [
       "1.0574245523528076"
      ]
     },
     "execution_count": 15,
     "metadata": {},
     "output_type": "execute_result"
    }
   ],
   "source": [
    "frame['a'].cov(frame['a'])"
   ]
  }
 ],
 "metadata": {
  "kernelspec": {
   "display_name": "Python 3",
   "language": "python",
   "name": "python3"
  },
  "language_info": {
   "codemirror_mode": {
    "name": "ipython",
    "version": 3
   },
   "file_extension": ".py",
   "mimetype": "text/x-python",
   "name": "python",
   "nbconvert_exporter": "python",
   "pygments_lexer": "ipython3",
   "version": "3.8.5"
  }
 },
 "nbformat": 4,
 "nbformat_minor": 4
}
