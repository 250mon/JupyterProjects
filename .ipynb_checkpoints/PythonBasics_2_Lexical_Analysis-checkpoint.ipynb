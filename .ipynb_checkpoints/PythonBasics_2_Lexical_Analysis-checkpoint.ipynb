{
 "cells": [
  {
   "cell_type": "markdown",
   "metadata": {},
   "source": [
    "# Line structure\n",
    "\n",
    "## Logical lines\n",
    "The end of a logical line is represented by the **token NEWLINE**. Statements cannot cross logical line boundaries except where NEWLINE is allowed by the syntax (e.g., between statements in compound statements). A logical line is constructed from one or more physical lines by following the explicit or implicit line joining rules.\n",
    "\n",
    "## Physical lines\n",
    "A physical line is a sequence of characters terminated by an **end-of-line sequence**. In source files and strings, any of the standard platform line termination sequences can be used - the Unix form using ASCII LF (linefeed), the Windows form using the ASCII sequence CR LF (return followed by linefeed), or the old Macintosh form using the ASCII CR (return) character\n",
    "\n",
    "## Comments\n",
    "A comment starts with a hash character (`#`) that is not part of a string literal, and ends at the end of the physical line. A comment signifies the end of the logical line unless the implicit line joining rules are invoked. Comments are ignored by the syntax.\n",
    "\n",
    "## Explicit line joining\n",
    "Two or more physical lines may be joined into logical lines using backslash characters (`\\`), as follows: when a physical line ends in a backslash that is not part of a string literal or comment, it is joined with the following forming a single logical line, deleting the backslash and the following end-of-line character. For example\n",
    "```python\n",
    "if 1900 < year < 2100 and 1 <= month <= 12 \\\n",
    "   and 1 <= day <= 31 and 0 <= hour < 24 \\\n",
    "   and 0 <= minute < 60 and 0 <= second < 60:   # Looks like a valid date\n",
    "        return 1\n",
    "```\n",
    "**A line ending in a backslash cannot carry a comment.** A backslash does not continue a comment. A backslash does not continue a token except for string literals (i.e., tokens other than string literals cannot be split across physical lines using a backslash). A backslash is illegal elsewhere on a line outside a string literal.\n",
    "\n",
    "## Implicit line joining\n",
    "Expressions in parentheses, square brackets or curly braces can be split over more than one physical line without using backslashes. For example:\n",
    "```python\n",
    "month_names = ['Januari', 'Februari', 'Maart',      # These are the\n",
    "               'April',   'Mei',      'Juni',       # Dutch names\n",
    "               'Juli',    'Augustus', 'September',  # for the months\n",
    "               'Oktober', 'November', 'December']   # of the year\n",
    "```\n",
    "**Implicitly continued lines can carry comments.** The indentation of the continuation lines is not important. Blank continuation lines are allowed. There is no NEWLINE token between implicit continuation lines. Implicitly continued lines can also occur within triple-quoted strings (see below); in that case they cannot carry comments."
   ]
  },
  {
   "cell_type": "markdown",
   "metadata": {},
   "source": [
    "# Literals"
   ]
  },
  {
   "cell_type": "markdown",
   "metadata": {},
   "source": [
    "## String and bytes literals\n",
    "\n",
    "String literals: The source character set is defined by the encoding declaration; it is UTF-8 if no encoding declaration is given in the source file\n",
    "\n",
    "In plain English: Both types of literals(string and bytes) can be enclosed in matching single quotes (`'`) or double quotes (`\"`). They can also be enclosed in matching groups of three single or double quotes (these are generally referred to as triple-quoted strings). The backslash (`\\`) character is used to escape characters that otherwise have a special meaning, such as newline, backslash itself, or the quote character.\n",
    "\n",
    "Bytes literals are always prefixed with `'b'` or `'B'`; they produce an instance of the bytes type instead of the str type. They may only contain ASCII characters; bytes with a numeric value of 128 or greater must be expressed with escapes\n",
    "\n",
    "A string literal with `'f'` or `'F'` in its prefix is a formatted string literal; see Formatted string literals. The `'f'` may be combined with `'r'`, but not with `'b'` or `'u'`, therefore raw formatted strings are possible, but formatted bytes literals are not.\n",
    "\n",
    "In triple-quoted literals, unescaped newlines and quotes are allowed (and are retained), except that three unescaped quotes in a row terminate the literal. (A “quote” is the character used to open the literal, i.e. either `'` or `\"`.)\n",
    "\n",
    "Unless an `'r'` or `'R'` prefix is present, escape sequences in string and bytes literals are interpreted according to rules similar to those used by Standard C. The recognized escape sequences are: `\\newline` `\\\\` `\\n` ...\n"
   ]
  },
  {
   "cell_type": "markdown",
   "metadata": {},
   "source": [
    "## Escape  with a backslash\n",
    "\n",
    "Unlike Standard C, all unrecognized escape sequences are left in the string unchanged, i.e., the backslash is left in the result. (This behavior is useful when debugging: if an escape sequence is mistyped, the resulting output is more easily recognized as broken.) It is also important to note that the escape sequences only recognized in string literals fall into the category of unrecognized escapes for bytes literals.\n",
    "\n",
    "Even in a raw literal, quotes can be escaped with a backslash, but the backslash remains in the result; for example, `r\"\\\"\"` is a valid string literal consisting of two characters: a backslash and a double quote; `r\"\\\"` is not a valid string literal (even a raw string cannot end in an odd number of backslashes). Specifically, a raw literal cannot end in a single backslash (since the backslash would escape the following quote character). Note also that a single backslash followed by a newline is interpreted as those two characters as part of the literal, not as a line continuation.\n"
   ]
  },
  {
   "cell_type": "code",
   "execution_count": 1,
   "metadata": {},
   "outputs": [
    {
     "name": "stdout",
     "output_type": "stream",
     "text": [
      "my name is \n",
      " python\n"
     ]
    }
   ],
   "source": [
    "a = \"\"\"my name is \\n python\"\"\"\n",
    "print(a)"
   ]
  },
  {
   "cell_type": "code",
   "execution_count": 2,
   "metadata": {},
   "outputs": [
    {
     "name": "stdout",
     "output_type": "stream",
     "text": [
      "my name is\n",
      "\n",
      "python\n",
      "Do you know me?\n"
     ]
    }
   ],
   "source": [
    "a = \"\"\"my name is\\n\n",
    "python\n",
    "Do you know me?\"\"\"\n",
    "print(a)"
   ]
  },
  {
   "cell_type": "code",
   "execution_count": 3,
   "metadata": {},
   "outputs": [
    {
     "name": "stdout",
     "output_type": "stream",
     "text": [
      "\\\"\n"
     ]
    }
   ],
   "source": [
    "a = r\"\\\"\"\n",
    "print(a)"
   ]
  },
  {
   "cell_type": "markdown",
   "metadata": {},
   "source": [
    "## String literal concatenation\n",
    "\n",
    "Multiple adjacent string or bytes literals (delimited by whitespace), possibly using different quoting conventions, are allowed, and their meaning is the same as their concatenation. Thus, `\"hello\" 'world'` is equivalent to `\"helloworld\"`. This feature can be used to reduce the number of backslashes needed, to split long strings conveniently across long lines, or even to add comments to parts of strings, for example:\n",
    "\n",
    "```python\n",
    "re.compile(\"[A-Za-z_]\"       # letter or underscore\n",
    "           \"[A-Za-z0-9_]*\"   # letter, digit or underscore\n",
    "          )\n",
    "```\n",
    "\n",
    "Note that this feature is defined at the syntactical level, but implemented at compile time. The ‘+’ operator must be used to concatenate string expressions at run time. Also note that literal concatenation can use different quoting styles for each component (even mixing raw strings and triple quoted strings), and formatted string literals may be concatenated with plain string literals."
   ]
  },
  {
   "cell_type": "markdown",
   "metadata": {},
   "source": [
    "## Formated string literals\n",
    "\n",
    "When the equal sign `'='` is provided, the output will have the expression text, the `'='` and the evaluated value. Spaces after the opening brace `'{'`, within the expression and after the `'='` are all retained in the output. By default, the `'='` causes the `repr()` of the expression to be provided, unless there is a format specified. **When a format is specified** it defaults to the `str()` of the expression unless a conversion `'!r'` is declared.\n",
    "\n",
    "If a conversion is specified, the result of evaluating the expression is converted before formatting. Conversion `'!s'` calls `str()` on the result, `'!r'` calls `repr()`, and `'!a'` calls `ascii()`."
   ]
  },
  {
   "cell_type": "code",
   "execution_count": 4,
   "metadata": {},
   "outputs": [
    {
     "data": {
      "text/plain": [
       "\"He said his name is 'Fred'.\""
      ]
     },
     "execution_count": 4,
     "metadata": {},
     "output_type": "execute_result"
    }
   ],
   "source": [
    "name = \"Fred\"\n",
    "f\"He said his name is {name!r}.\""
   ]
  },
  {
   "cell_type": "code",
   "execution_count": 5,
   "metadata": {},
   "outputs": [
    {
     "data": {
      "text/plain": [
       "\"He said his name is 'Fred'.\""
      ]
     },
     "execution_count": 5,
     "metadata": {},
     "output_type": "execute_result"
    }
   ],
   "source": [
    "f\"He said his name is {repr(name)}.\""
   ]
  },
  {
   "cell_type": "code",
   "execution_count": 9,
   "metadata": {},
   "outputs": [
    {
     "data": {
      "text/plain": [
       "'result:      12.35'"
      ]
     },
     "execution_count": 9,
     "metadata": {},
     "output_type": "execute_result"
    }
   ],
   "source": [
    "width, precision = 10, 4\n",
    "value = decimal.Decimal(\"12.34567\")\n",
    "f\"result: {value:{width}.{precision}}\" # nested fields"
   ]
  },
  {
   "cell_type": "code",
   "execution_count": 13,
   "metadata": {},
   "outputs": [
    {
     "data": {
      "text/plain": [
       "'January 27, 2017'"
      ]
     },
     "execution_count": 13,
     "metadata": {},
     "output_type": "execute_result"
    }
   ],
   "source": [
    "today = datetime.datetime(year=2017, month=1, day=27)\n",
    "f\"{today:%B %d, %Y}\" # using date format specifier"
   ]
  },
  {
   "cell_type": "code",
   "execution_count": 14,
   "metadata": {},
   "outputs": [
    {
     "data": {
      "text/plain": [
       "'today=January 27, 2017'"
      ]
     },
     "execution_count": 14,
     "metadata": {},
     "output_type": "execute_result"
    }
   ],
   "source": [
    "f\"{today=:%B %d, %Y}\" # using date format specifier and debugging"
   ]
  },
  {
   "cell_type": "code",
   "execution_count": 15,
   "metadata": {},
   "outputs": [
    {
     "data": {
      "text/plain": [
       "'0x400'"
      ]
     },
     "execution_count": 15,
     "metadata": {},
     "output_type": "execute_result"
    }
   ],
   "source": [
    "number = 1024\n",
    "f\"{number:#0x}\"  # using integer format specifier"
   ]
  },
  {
   "cell_type": "code",
   "execution_count": 17,
   "metadata": {},
   "outputs": [
    {
     "data": {
      "text/plain": [
       "\"   foo    =     'bar'\""
      ]
     },
     "execution_count": 17,
     "metadata": {},
     "output_type": "execute_result"
    }
   ],
   "source": [
    "foo = \"bar\"\n",
    "f\"{   foo    =     }\" # preserves whitespace"
   ]
  },
  {
   "cell_type": "code",
   "execution_count": 18,
   "metadata": {},
   "outputs": [
    {
     "data": {
      "text/plain": [
       "'line = \"The mill\\'s closed\"'"
      ]
     },
     "execution_count": 18,
     "metadata": {},
     "output_type": "execute_result"
    }
   ],
   "source": [
    "line = \"The mill's closed\"\n",
    "f\"{line = }\""
   ]
  },
  {
   "cell_type": "code",
   "execution_count": 22,
   "metadata": {},
   "outputs": [
    {
     "data": {
      "text/plain": [
       "\"line = The mill's closed   \""
      ]
     },
     "execution_count": 22,
     "metadata": {},
     "output_type": "execute_result"
    }
   ],
   "source": [
    "f\"{line = :20}\" # When a format is specified, default to the str()"
   ]
  },
  {
   "cell_type": "code",
   "execution_count": 21,
   "metadata": {},
   "outputs": [
    {
     "data": {
      "text/plain": [
       "'line = \"The mill\\'s closed\" '"
      ]
     },
     "execution_count": 21,
     "metadata": {},
     "output_type": "execute_result"
    }
   ],
   "source": [
    "f\"{line = !r:20}\""
   ]
  },
  {
   "cell_type": "markdown",
   "metadata": {},
   "source": [
    "A consequence of sharing the same syntax as regular string literals is that characters in the replacement fields must not conflict with the quoting used in the outer formatted string literal:\n",
    "```python\n",
    "f\"abc {a[\"x\"]} def\"    # error: outer string literal ended prematurely\n",
    "f\"abc {a['x']} def\"    # workaround: use different quoting\n",
    "```\n",
    "\n",
    "Backslashes are not allowed in format expressions and will raise an error:\n",
    "```python\n",
    "f\"newline: {ord('\\n')}\"  # raises SyntaxError\n",
    "```\n",
    "\n",
    "To include a value in which a backslash escape is required, create a temporary variable.\n",
    "```python\n",
    ">>> newline = ord('\\n')\n",
    ">>> f\"newline: {newline}\"\n",
    "'newline: 10'\n",
    "```\n",
    "\n",
    "Formatted string literals cannot be used as docstrings, even if they do not include expressions.\n",
    "```python\n",
    ">>> def foo():\n",
    "...     f\"Not a docstring\"\n",
    "...\n",
    ">>> foo.__doc__ is None\n",
    "True\n",
    "```"
   ]
  },
  {
   "cell_type": "code",
   "execution_count": null,
   "metadata": {},
   "outputs": [],
   "source": []
  }
 ],
 "metadata": {
  "kernelspec": {
   "display_name": "Python 3",
   "language": "python",
   "name": "python3"
  },
  "language_info": {
   "codemirror_mode": {
    "name": "ipython",
    "version": 3
   },
   "file_extension": ".py",
   "mimetype": "text/x-python",
   "name": "python",
   "nbconvert_exporter": "python",
   "pygments_lexer": "ipython3",
   "version": "3.8.5"
  }
 },
 "nbformat": 4,
 "nbformat_minor": 4
}
