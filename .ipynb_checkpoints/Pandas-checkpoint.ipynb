{
 "cells": [
  {
   "cell_type": "code",
   "execution_count": 3,
   "metadata": {},
   "outputs": [],
   "source": [
    "from pandas import Series, DataFrame"
   ]
  },
  {
   "cell_type": "code",
   "execution_count": 4,
   "metadata": {},
   "outputs": [
    {
     "name": "stdout",
     "output_type": "stream",
     "text": [
      "0    100\n",
      "1    200\n",
      "dtype: int64\n"
     ]
    }
   ],
   "source": [
    "kakao = Series([100, 200])\n",
    "print(kakao)"
   ]
  },
  {
   "cell_type": "code",
   "execution_count": 5,
   "metadata": {},
   "outputs": [
    {
     "name": "stdout",
     "output_type": "stream",
     "text": [
      "   col0  col1  col2\n",
      "0     1    10   100\n",
      "1     2    20   200\n",
      "2     3    30   300\n",
      "3     4    40   400\n"
     ]
    }
   ],
   "source": [
    "raw_data = {'col0' : [1, 2, 3, 4],\n",
    "            'col1' : [10, 20, 30, 40],\n",
    "            'col2' : [100, 200, 300, 400]}\n",
    "data = DataFrame(raw_data)\n",
    "print(data)"
   ]
  },
  {
   "cell_type": "code",
   "execution_count": 11,
   "metadata": {},
   "outputs": [
    {
     "name": "stdout",
     "output_type": "stream",
     "text": [
      "          col0  col1  col2\n",
      "16.02.29     1    10   100\n",
      "16.02.26     2    20   200\n",
      "16.02.23     3    30   300\n",
      "16.02.27     4    40   400\n"
     ]
    }
   ],
   "source": [
    "date = ['16.02.29', '16.02.26', '16.02.23', '16.02.27']\n",
    "data1 = DataFrame(raw_data, index=date)\n",
    "print(data1)"
   ]
  },
  {
   "cell_type": "code",
   "execution_count": 12,
   "metadata": {},
   "outputs": [
    {
     "name": "stdout",
     "output_type": "stream",
     "text": [
      "col0      1\n",
      "col1     10\n",
      "col2    100\n",
      "Name: 16.02.29, dtype: int64\n"
     ]
    }
   ],
   "source": [
    "day_data1 = data1.loc['16.02.29']\n",
    "print(day_data1)"
   ]
  },
  {
   "cell_type": "code",
   "execution_count": 13,
   "metadata": {},
   "outputs": [
    {
     "name": "stdout",
     "output_type": "stream",
     "text": [
      "16.02.29    10\n",
      "16.02.26    20\n",
      "16.02.23    30\n",
      "16.02.27    40\n",
      "Name: col1, dtype: int64\n"
     ]
    }
   ],
   "source": [
    "col1 = data1['col1']\n",
    "print(col1)"
   ]
  },
  {
   "cell_type": "code",
   "execution_count": 14,
   "metadata": {},
   "outputs": [
    {
     "name": "stdout",
     "output_type": "stream",
     "text": [
      "Index(['col0', 'col1', 'col2'], dtype='object')\n",
      "Index(['16.02.29', '16.02.26', '16.02.23', '16.02.27'], dtype='object')\n"
     ]
    }
   ],
   "source": [
    "print(data1.columns)\n",
    "print(data1.index)"
   ]
  },
  {
   "cell_type": "code",
   "execution_count": null,
   "metadata": {},
   "outputs": [],
   "source": []
  }
 ],
 "metadata": {
  "kernelspec": {
   "display_name": "Python 3",
   "language": "python",
   "name": "python3"
  },
  "language_info": {
   "codemirror_mode": {
    "name": "ipython",
    "version": 3
   },
   "file_extension": ".py",
   "mimetype": "text/x-python",
   "name": "python",
   "nbconvert_exporter": "python",
   "pygments_lexer": "ipython3",
   "version": "3.8.5"
  }
 },
 "nbformat": 4,
 "nbformat_minor": 4
}
